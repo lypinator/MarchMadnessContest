{
 "cells": [
  {
   "cell_type": "markdown",
   "metadata": {},
   "source": [
    "not simple linear regression\n",
    "    2 or more models\n",
    "    "
   ]
  },
  {
   "cell_type": "code",
   "execution_count": 1,
   "metadata": {},
   "outputs": [],
   "source": [
    "import pandas as pd\n",
    "import statsmodels.formula.api as stats\n",
    "import statsmodels.api as sm\n",
    "import numpy as np\n",
    "import math\n",
    "import sklearn.metrics as sk\n",
    "from bs4 import BeautifulSoup\n",
    "import requests\n",
    "import json\n",
    "from os import path"
   ]
  },
  {
   "cell_type": "code",
   "execution_count": 2,
   "metadata": {},
   "outputs": [
    {
     "data": {
      "text/plain": [
       "False"
      ]
     },
     "execution_count": 2,
     "metadata": {},
     "output_type": "execute_result"
    }
   ],
   "source": [
    "not path.exists('FullStats\\FullSeasonStats_2010.csv')"
   ]
  },
  {
   "cell_type": "code",
   "execution_count": 98,
   "metadata": {},
   "outputs": [
    {
     "name": "stdout",
     "output_type": "stream",
     "text": [
      "Name_HigherRank5386\n",
      "GamesPlayed_HigherRank5386\n",
      "ConfWins_HigherRank5386\n",
      "ConfLosses_HigherRank5386\n",
      "TotalWins_HigherRank5386\n",
      "TotalLosses_HigherRank5386\n",
      "OffEff_HigherRank5386\n",
      "DefEff_HigherRank5386\n",
      "Turnovers_HigherRank5386\n",
      "ForcedTurnovers_HigherRank5386\n",
      "2PFGOff_HigherRank5386\n",
      "2PFGDef_HigherRank5386\n",
      "3PFGOff_HigherRank5386\n",
      "3PFGDef_HigherRank5386\n",
      "FTOff_HigherRank5386\n",
      "FTDef_HigherRank5386\n",
      "Rank_HigherRank26930\n",
      "Name_LowerRank5386\n",
      "GamesPlayed_LowerRank5386\n",
      "OffEff_LowerRank5386\n",
      "DefEff_LowerRank5386\n",
      "Turnovers_LowerRank5386\n",
      "ForcedTurnovers_LowerRank5386\n",
      "2PFGOff_LowerRank5386\n",
      "2PFGDef_LowerRank5386\n",
      "3PFGOff_LowerRank5386\n",
      "3PFGDef_LowerRank5386\n",
      "FTOff_LowerRank5386\n",
      "FTDef_LowerRank5386\n",
      "Rank_LowerRank5386\n",
      "Results_HigherRank5386\n",
      "Differntial5386\n",
      "Score5386\n",
      "PlusMinus_HigherRank5386\n"
     ]
    }
   ],
   "source": [
    "for key in bigStats:\n",
    "    print(key+str(len(bigStats[key])))"
   ]
  },
  {
   "cell_type": "code",
   "execution_count": null,
   "metadata": {},
   "outputs": [
    {
     "name": "stdout",
     "output_type": "stream",
     "text": [
      "Finished Processing 2010\n",
      "Finished Processing 2011\n",
      "Finished Processing 2012\n",
      "Finished Processing 2013\n"
     ]
    }
   ],
   "source": [
    "years = list(range(2010,2022))\n",
    "for year in years:\n",
    "    GamesPlayed=[]\n",
    "    bigStats = {}\n",
    "    filename = 'FullStats\\FullSeasonStats_'+str(year)+'.csv'\n",
    "    with open(filename,'r') as f:\n",
    "        df = pd.read_csv(f)\n",
    "    for team in df.Name:\n",
    "        filename2 = 'Games\\\\'+str(year)+'\\\\'+team+'_'+str(year)+'_Opponent.csv'\n",
    "        with open(filename2,'r') as f:\n",
    "            df2 = pd.read_csv(f)\n",
    "            num=0\n",
    "        for opponent in df2.Opponent:\n",
    "            if opponent not in GamesPlayed:\n",
    "                HigherRank = GetStats(team,df)\n",
    "                LowerRank = GetStats(opponent,df)\n",
    "                if not LowerRank.empty:\n",
    "                    AppendNewStats(HigherRank,LowerRank,bigStats)\n",
    "                    AppendGameResults(df2,num,bigStats)\n",
    "            num+=1\n",
    "        GamesPlayed.append(team)\n",
    "    bigStats1 = pd.DataFrame(data = bigStats)\n",
    "    bigStats1.to_csv('Matchup\\\\MatchupStats_'+str(year)+'.csv', index = False)\n",
    "    print('Finished Processing '+str(year))\n"
   ]
  },
  {
   "cell_type": "code",
   "execution_count": 103,
   "metadata": {},
   "outputs": [],
   "source": [
    "def AppendNewStats(HigherRank,LowerRank,bigStats):\n",
    "    record = ['ConfRecord','TotalRecord']\n",
    "    for item in HigherRank:\n",
    "        keyval1 = item+'_HigherRank'\n",
    "        if item in record:\n",
    "            keyvalWin = keyval1.replace('Record','Wins')\n",
    "            keyvalLoss = keyval1.replace('Record','Losses')\n",
    "            ratio = HigherRank[item].iloc[0].split('_')\n",
    "            append_value(bigStats, keyvalWin, ratio[0])\n",
    "            append_value(bigStats, keyvalLoss, ratio[1])\n",
    "        else:\n",
    "            append_value(bigStats, keyval1, HigherRank[item].iloc[0])\n",
    "    for item in LowerRank:\n",
    "        keyval2 = item+'_LowerRank'\n",
    "        if item in record:\n",
    "            keyvalWin = keyval2.replace('Record','Wins')\n",
    "            keyvalLoss = keyval2.replace('Record','Losses')\n",
    "            ratio = LowerRank[item].iloc[0].split('_')\n",
    "            append_value(bigStats, keyvalWin, ratio[0])\n",
    "            append_value(bigStats, keyvalLoss, ratio[1])\n",
    "        else:\n",
    "            append_value(bigStats, keyval2, LowerRank[item].iloc[0])\n",
    "    return(0)\n",
    "\n",
    "def GetStats(team,fullstats):\n",
    "    return(fullstats[fullstats['Name'] == team])\n",
    "    \n",
    "def AppendGameResults(df2,num,bigStats):\n",
    "    for item in df2:\n",
    "        if item != 'Opponent':\n",
    "            if item == 'Score':\n",
    "                scores = df2[item].iloc[num].split('_')\n",
    "                for i in range(0,2):\n",
    "                    scores[i] = (scores[i].split())[0]\n",
    "                differential = int(scores[1])-int(scores[0])\n",
    "                if df2['Results'].iloc[num] == 'W':\n",
    "                    differential = abs(differential)\n",
    "                append_value(bigStats, 'Differntial', differential)\n",
    "            if item == 'Results' or item == 'PlusMinus':\n",
    "                keyval = item+'_HigherRank'\n",
    "            else:\n",
    "                keyval = item\n",
    "            append_value(bigStats, keyval, df2[item].iloc[num])\n",
    "    return(0)\n",
    "    \n",
    "    \n",
    "stats = {}\n",
    "filename = 'FullStats\\FullSeasonStats_'+str(year)+'.csv'\n",
    "with open(filename,'r') as f:\n",
    "    df = pd.read_csv(f)\n",
    "played = ['Villanova','Gonzaga']\n",
    "for name in df.Name:\n",
    "    if name in played:\n",
    "        df_new = df[df['Name'] == name]\n",
    "        for item in df_new:\n",
    "            append_value(stats, item, df_new[item].iloc[0])\n",
    "            "
   ]
  },
  {
   "cell_type": "code",
   "execution_count": 87,
   "metadata": {},
   "outputs": [],
   "source": [
    "def append_value(dict_obj, key, value):\n",
    "    # Check if key exist in dict or not\n",
    "    if key in dict_obj:\n",
    "        # Key exist in dict.\n",
    "        # Check if type of value of key is list or not\n",
    "        if not isinstance(dict_obj[key], list):\n",
    "            # If type is not list then make it list\n",
    "            dict_obj[key] = [dict_obj[key]]\n",
    "        # Append the value in list\n",
    "        dict_obj[key].append(value)\n",
    "    else:\n",
    "        # As key is not in dict,\n",
    "        # so, add key-value pair\n",
    "        dict_obj[key] = value"
   ]
  },
  {
   "cell_type": "code",
   "execution_count": 95,
   "metadata": {},
   "outputs": [
    {
     "name": "stdout",
     "output_type": "stream",
     "text": [
      "  Name_HigherRank  GamesPlayed_HigherRank ConfRecord_HigherRank  \\\n",
      "0            Duke                      40                  13_3   \n",
      "1            Duke                      40                  13_3   \n",
      "2            Duke                      40                  13_3   \n",
      "3            Duke                      40                  13_3   \n",
      "4            Duke                      40                  13_3   \n",
      "\n",
      "  TotalRecord_HigherRank  OffEff_HigherRank  DefEff_HigherRank  \\\n",
      "0                   35_5              120.8               87.8   \n",
      "1                   35_5              120.8               87.8   \n",
      "2                   35_5              120.8               87.8   \n",
      "3                   35_5              120.8               87.8   \n",
      "4                   35_5              120.8               87.8   \n",
      "\n",
      "   Turnovers_HigherRank  ForcedTurnovers_HigherRank  2PFGOff_HigherRank  \\\n",
      "0                  16.5                        21.3                46.9   \n",
      "1                  16.5                        21.3                46.9   \n",
      "2                  16.5                        21.3                46.9   \n",
      "3                  16.5                        21.3                46.9   \n",
      "4                  16.5                        21.3                46.9   \n",
      "\n",
      "   2PFGDef_HigherRank  ...  2PFGDef_LowerRank  3PFGOff_LowerRank  \\\n",
      "0                44.1  ...               52.6               28.7   \n",
      "1                44.1  ...               44.7               35.0   \n",
      "2                44.1  ...               47.7               31.1   \n",
      "3                44.1  ...               43.3               30.0   \n",
      "4                44.1  ...               44.5               36.9   \n",
      "\n",
      "   3PFGDef_LowerRank  FTOff_LowerRank  FTDef_LowerRank Rank_LowerRank  \\\n",
      "0               35.4             33.8             37.0            247   \n",
      "1               28.2             36.0             29.6            146   \n",
      "2               30.7             42.5             32.0            104   \n",
      "3               32.7             40.2             29.5            225   \n",
      "4               31.7             38.0             34.8             41   \n",
      "\n",
      "   Results_HigherRank Differntial     Score  PlusMinus_HigherRank  \n",
      "0                   W          34    96_62                   15.3  \n",
      "1                   W          25    74_49                   10.2  \n",
      "2                   W          42   101_59                   23.9  \n",
      "3                   W          37   104_67                   15.1  \n",
      "4                   W          11    64_53                    2.3  \n",
      "\n",
      "[5 rows x 34 columns]\n"
     ]
    }
   ],
   "source": [
    "#First Regression Attempt\n",
    "\n",
    "filename = 'Matchup\\\\MatchupStats_2010.csv'\n",
    "with open(filename,'r') as f:\n",
    "    df = pd.read_csv(f)\n",
    "print(df.head())\n",
    "#lm_fit = stats.ols(formula='X2~X1+X3+X4+X5+X6',data=df).fit()\n",
    "#lm_fit.summary()\n"
   ]
  }
 ],
 "metadata": {
  "kernelspec": {
   "display_name": "Python 3",
   "language": "python",
   "name": "python3"
  },
  "language_info": {
   "codemirror_mode": {
    "name": "ipython",
    "version": 3
   },
   "file_extension": ".py",
   "mimetype": "text/x-python",
   "name": "python",
   "nbconvert_exporter": "python",
   "pygments_lexer": "ipython3",
   "version": "3.7.3"
  }
 },
 "nbformat": 4,
 "nbformat_minor": 2
}
