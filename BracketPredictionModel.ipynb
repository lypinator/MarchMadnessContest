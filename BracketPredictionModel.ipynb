{
 "cells": [
  {
   "cell_type": "markdown",
   "metadata": {},
   "source": [
    "not simple linear regression\n",
    "    2 or more models\n",
    "    "
   ]
  },
  {
   "cell_type": "code",
   "execution_count": 1,
   "metadata": {},
   "outputs": [],
   "source": [
    "import pandas as pd\n",
    "import statsmodels.formula.api as stats\n",
    "import statsmodels.api as sm\n",
    "import numpy as np\n",
    "import math\n",
    "import sklearn.metrics as sk\n",
    "from bs4 import BeautifulSoup\n",
    "import requests\n",
    "import json\n",
    "from os import path"
   ]
  },
  {
   "cell_type": "code",
   "execution_count": 2,
   "metadata": {},
   "outputs": [
    {
     "data": {
      "text/plain": [
       "False"
      ]
     },
     "execution_count": 2,
     "metadata": {},
     "output_type": "execute_result"
    }
   ],
   "source": [
    "not path.exists('FullStats\\FullSeasonStats_2010.csv')"
   ]
  },
  {
   "cell_type": "code",
   "execution_count": 79,
   "metadata": {},
   "outputs": [
    {
     "name": "stdout",
     "output_type": "stream",
     "text": [
      "Name_HigherRank5977\n",
      "GamesPlayed_HigherRank5977\n",
      "ConfRecord_HigherRank5977\n",
      "TotalRecord_HigherRank5977\n",
      "OffEff_HigherRank5977\n",
      "DefEff_HigherRank5977\n",
      "Turnovers_HigherRank5977\n",
      "ForcedTurnovers_HigherRank5977\n",
      "2PFGOff_HigherRank5977\n",
      "2PFGDef_HigherRank5977\n",
      "3PFGOff_HigherRank5977\n",
      "3PFGDef_HigherRank5977\n",
      "FTOff_HigherRank5977\n",
      "FTDef_HigherRank5977\n",
      "Rank_HigherRank5977\n",
      "Name_LowerRank5535\n",
      "GamesPlayed_LowerRank5535\n",
      "ConfRecord_LowerRank5535\n",
      "TotalRecord_LowerRank5535\n",
      "OffEff_LowerRank5535\n",
      "DefEff_LowerRank5535\n",
      "Turnovers_LowerRank5535\n",
      "ForcedTurnovers_LowerRank5535\n",
      "2PFGOff_LowerRank5535\n",
      "2PFGDef_LowerRank5535\n",
      "3PFGOff_LowerRank5535\n",
      "3PFGDef_LowerRank5535\n",
      "FTOff_LowerRank5535\n",
      "FTDef_LowerRank5535\n",
      "Rank_LowerRank5535\n",
      "Results_HigherRank5535\n",
      "Differntial5535\n",
      "Score5535\n",
      "PlusMinus_HigherRank5535\n"
     ]
    }
   ],
   "source": [
    "for key in bigStats:\n",
    "    print(key+str(len(bigStats[key])))"
   ]
  },
  {
   "cell_type": "code",
   "execution_count": null,
   "metadata": {},
   "outputs": [],
   "source": [
    "years = list(range(2017,2022))\n",
    "for year in years:\n",
    "    GamesPlayed=[]\n",
    "    bigStats = {}\n",
    "    filename = 'FullStats\\FullSeasonStats_'+str(year)+'.csv'\n",
    "    with open(filename,'r') as f:\n",
    "        df = pd.read_csv(f)\n",
    "    for team in df.Name:\n",
    "        filename2 = 'Games\\\\'+str(year)+'\\\\'+team+'_'+str(year)+'_Opponent.csv'\n",
    "        with open(filename2,'r') as f:\n",
    "            df2 = pd.read_csv(f)\n",
    "            num=0\n",
    "        for opponent in df2.Opponent:\n",
    "            if opponent not in GamesPlayed:\n",
    "                HigherRank = GetStats(team,df)\n",
    "                LowerRank = GetStats(opponent,df)\n",
    "                if not LowerRank.empty:\n",
    "                    AppendNewStats(HigherRank,LowerRank,bigStats)\n",
    "                    AppendGameResults(df2,num,bigStats)\n",
    "            num+=1\n",
    "        GamesPlayed.append(team)\n",
    "    bigStats1 = pd.DataFrame(data = bigStats)\n",
    "    bigStats1.to_csv('Matchup\\\\MatchupStats_'+str(year)+'.csv', index = False)\n",
    "    print('Finished Processing '+str(year))\n"
   ]
  },
  {
   "cell_type": "code",
   "execution_count": 85,
   "metadata": {},
   "outputs": [],
   "source": [
    "def AppendNewStats(HigherRank,LowerRank,bigStats):\n",
    "    for item in HigherRank:\n",
    "        keyval1 = item+'_HigherRank'\n",
    "        append_value(bigStats, keyval1, HigherRank[item].iloc[0])\n",
    "    for ite in LowerRank:\n",
    "        keyval2 = ite+'_LowerRank'\n",
    "        append_value(bigStats, keyval2, LowerRank[ite].iloc[0])\n",
    "    return(0)\n",
    "\n",
    "def GetStats(team,fullstats):\n",
    "    return(fullstats[fullstats['Name'] == team])\n",
    "    \n",
    "def AppendGameResults(df2,num,bigStats):\n",
    "    for item in df2:\n",
    "        if item != 'Opponent':\n",
    "            if item == 'Score':\n",
    "                scores = df2[item].iloc[num].split('_')\n",
    "                for i in range(0,2):\n",
    "                    scores[i] = (scores[i].split())[0]\n",
    "                differential = int(scores[1])-int(scores[0])\n",
    "                if df2['Results'].iloc[num] == 'W':\n",
    "                    differential = abs(differential)\n",
    "                append_value(bigStats, 'Differntial', differential)\n",
    "            if item == 'Results' or item == 'PlusMinus':\n",
    "                keyval = item+'_HigherRank'\n",
    "            else:\n",
    "                keyval = item\n",
    "            append_value(bigStats, keyval, df2[item].iloc[num])\n",
    "    return(0)\n",
    "    \n",
    "    \n",
    "stats = {}\n",
    "filename = 'FullStats\\FullSeasonStats_'+str(year)+'.csv'\n",
    "with open(filename,'r') as f:\n",
    "    df = pd.read_csv(f)\n",
    "played = ['Villanova','Gonzaga']\n",
    "for name in df.Name:\n",
    "    if name in played:\n",
    "        df_new = df[df['Name'] == name]\n",
    "        for item in df_new:\n",
    "            append_value(stats, item, df_new[item].iloc[0])\n",
    "            "
   ]
  },
  {
   "cell_type": "code",
   "execution_count": 87,
   "metadata": {},
   "outputs": [],
   "source": [
    "def append_value(dict_obj, key, value):\n",
    "    # Check if key exist in dict or not\n",
    "    if key in dict_obj:\n",
    "        # Key exist in dict.\n",
    "        # Check if type of value of key is list or not\n",
    "        if not isinstance(dict_obj[key], list):\n",
    "            # If type is not list then make it list\n",
    "            dict_obj[key] = [dict_obj[key]]\n",
    "        # Append the value in list\n",
    "        dict_obj[key].append(value)\n",
    "    else:\n",
    "        # As key is not in dict,\n",
    "        # so, add key-value pair\n",
    "        dict_obj[key] = value"
   ]
  },
  {
   "cell_type": "code",
   "execution_count": 90,
   "metadata": {},
   "outputs": [
    {
     "data": {
      "text/plain": [
       "True"
      ]
     },
     "execution_count": 90,
     "metadata": {},
     "output_type": "execute_result"
    }
   ],
   "source": [
    "LowerRank.empty"
   ]
  }
 ],
 "metadata": {
  "kernelspec": {
   "display_name": "Python 3",
   "language": "python",
   "name": "python3"
  },
  "language_info": {
   "codemirror_mode": {
    "name": "ipython",
    "version": 3
   },
   "file_extension": ".py",
   "mimetype": "text/x-python",
   "name": "python",
   "nbconvert_exporter": "python",
   "pygments_lexer": "ipython3",
   "version": "3.7.3"
  }
 },
 "nbformat": 4,
 "nbformat_minor": 2
}
